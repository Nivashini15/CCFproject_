{
 "cells": [
  {
   "cell_type": "code",
   "execution_count": null,
   "id": "30045ff8",
   "metadata": {},
   "outputs": [],
   "source": [
    "import pandas as pd\n",
    "import numpy as np\n",
    "import matplotlib.pyplot as plt\n",
    "import seaborn as sns\n",
    "\n",
    "from sklearn.model_selection import train_test_split\n",
    "from sklearn.preprocessing import StandardScaler\n",
    "from sklearn.linear_model import LogisticRegression\n",
    "from sklearn.neighbors import KNeighborsClassifier\n",
    "from sklearn.tree import DecisionTreeClassifier\n",
    "from sklearn.metrics import (\n",
    "    accuracy_score,\n",
    "    precision_score,\n",
    "    recall_score,\n",
    "    f1_score,\n",
    "    confusion_matrix,\n",
    "    classification_report,\n",
    ")"
   ]
  },
  {
   "cell_type": "code",
   "execution_count": null,
   "id": "2e6eb703",
   "metadata": {},
   "outputs": [],
   "source": [
    "# Adjust path if needed\n",
    "credit_card_data = pd.read_csv(r\"../creditcard.csv\")\n",
    "print(\"Dataset Loaded Successfully ✅\")"
   ]
  },
  {
   "cell_type": "code",
   "execution_count": null,
   "id": "8ef6fdc9",
   "metadata": {},
   "outputs": [],
   "source": [
    "print(credit_card_data.shape)\n",
    "print(credit_card_data[\"Class\"].value_counts())"
   ]
  },
  {
   "cell_type": "code",
   "execution_count": null,
   "id": "e240adb9",
   "metadata": {},
   "outputs": [],
   "source": [
    "print(credit_card_data.shape)\n",
    "print(credit_card_data[\"Class\"].value_counts())"
   ]
  },
  {
   "cell_type": "code",
   "execution_count": null,
   "id": "f2afac8e",
   "metadata": {},
   "outputs": [],
   "source": [
    "# Count plot\n",
    "sns.countplot(x=\"Class\", data=credit_card_data)\n",
    "plt.title(\"Fraud vs Non-Fraud Transactions\")\n",
    "plt.show()"
   ]
  },
  {
   "cell_type": "code",
   "execution_count": null,
   "id": "86974d30",
   "metadata": {},
   "outputs": [],
   "source": [
    "# Heatmap\n",
    "plt.figure(figsize=(15, 10))\n",
    "sns.heatmap(credit_card_data.corr(), cmap=\"coolwarm\", annot=False)\n",
    "plt.title(\"Correlation Heatmap\")\n",
    "plt.show()"
   ]
  },
  {
   "cell_type": "code",
   "execution_count": null,
   "id": "67884a39",
   "metadata": {},
   "outputs": [],
   "source": [
    "# Features and target\n",
    "X = credit_card_data.drop(\"Class\", axis=1)\n",
    "y = credit_card_data[\"Class\"]\n",
    "\n",
    "# Train-test split\n",
    "X_train, X_test, y_train, y_test = train_test_split(\n",
    "    X, y, test_size=0.2, random_state=42, stratify=y\n",
    ")\n",
    "\n",
    "# Scale features\n",
    "scaler = StandardScaler()\n",
    "X_train = scaler.fit_transform(X_train)\n",
    "X_test = scaler.transform(X_test)"
   ]
  },
  {
   "cell_type": "code",
   "execution_count": null,
   "id": "7f4c75c1",
   "metadata": {},
   "outputs": [],
   "source": [
    "model1 = LogisticRegression()\n",
    "model2 = KNeighborsClassifier()\n",
    "model3 = DecisionTreeClassifier()\n",
    "\n",
    "model1.fit(X_train, y_train)\n",
    "model2.fit(X_train, y_train)\n",
    "model3.fit(X_train, y_train)"
   ]
  },
  {
   "cell_type": "code",
   "execution_count": null,
   "id": "c92bb842",
   "metadata": {},
   "outputs": [],
   "source": [
    "y_pred1 = model1.predict(X_test)\n",
    "y_pred2 = model2.predict(X_test)\n",
    "y_pred3 = model3.predict(X_test)"
   ]
  },
  {
   "cell_type": "code",
   "execution_count": null,
   "id": "72ae340e",
   "metadata": {},
   "outputs": [],
   "source": [
    "acc1 = accuracy_score(y_test, y_pred1)\n",
    "prec1 = precision_score(y_test, y_pred1)\n",
    "rec1 = recall_score(y_test, y_pred1)\n",
    "f1_1 = f1_score(y_test, y_pred1)\n",
    "\n",
    "acc2 = accuracy_score(y_test, y_pred2)\n",
    "prec2 = precision_score(y_test, y_pred2)\n",
    "rec2 = recall_score(y_test, y_pred2)\n",
    "f1_2 = f1_score(y_test, y_pred2)\n",
    "\n",
    "acc3 = accuracy_score(y_test, y_pred3)\n",
    "prec3 = precision_score(y_test, y_pred3)\n",
    "rec3 = recall_score(y_test, y_pred3)\n",
    "f1_3 = f1_score(y_test, y_pred3)"
   ]
  },
  {
   "cell_type": "code",
   "execution_count": null,
   "id": "3a415210",
   "metadata": {},
   "outputs": [],
   "source": [
    "results = pd.DataFrame(\n",
    "    {\n",
    "        \"Model\": [\"Logistic Regression\", \"KNN\", \"Decision Tree\"],\n",
    "        \"Accuracy\": [acc1, acc2, acc3],\n",
    "        \"Precision\": [prec1, prec2, prec3],\n",
    "        \"Recall\": [rec1, rec2, rec3],\n",
    "        \"F1 Score\": [f1_1, f1_2, f1_3]\n",
    "    }\n",
    ")\n",
    "\n",
    "\n",
    "\n",
    "print(\"🔍 Model Comparison:\")\n",
    "\n",
    "\n",
    "print(results.sort_values(by=\"F1 Score\", ascending=False))"
   ]
  }
 ],
 "metadata": {
  "kernelspec": {
   "display_name": "Python 3 (ipykernel)",
   "language": "python",
   "name": "python3"
  },
  "language_info": {
   "codemirror_mode": {
    "name": "ipython",
    "version": 3
   },
   "file_extension": ".py",
   "mimetype": "text/x-python",
   "name": "python",
   "nbconvert_exporter": "python",
   "pygments_lexer": "ipython3",
   "version": "3.13.5"
  }
 },
 "nbformat": 4,
 "nbformat_minor": 5
}
