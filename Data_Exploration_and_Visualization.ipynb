{
 "cells": [
  {
   "cell_type": "code",
   "execution_count": null,
   "id": "71b9589d",
   "metadata": {},
   "outputs": [],
   "source": [
    "import pandas as pd\n",
    "import seaborn as sns\n",
    "import matplotlib.pyplot as plt"
   ]
  },
  {
   "cell_type": "code",
   "execution_count": null,
   "id": "30898d30",
   "metadata": {},
   "outputs": [],
   "source": [
    "# Read the CSV with full path (update this path if needed)\n",
    "try:\n",
    "    credit_card_data = pd.read_csv(\n",
    "        \"../creditcard.csv\"\n",
    "    )\n",
    "    print(\"Data loaded successfully!\")\n",
    "except FileNotFoundError:\n",
    "    print(\"creditcard.csv not found. Please check the file path.\")"
   ]
  },
  {
   "cell_type": "code",
   "execution_count": null,
   "id": "132055dd",
   "metadata": {},
   "outputs": [],
   "source": [
    "# Basic Info Check\n",
    "print(\"\\n🔍 Dataset Summary:\")\n",
    "print(credit_card_data.info())"
   ]
  },
  {
   "cell_type": "code",
   "execution_count": null,
   "id": "4b81049b",
   "metadata": {},
   "outputs": [],
   "source": [
    "# Handle missing values (optional - dataset usually doesn't have any, but it's safe)\n",
    "if credit_card_data.isnull().sum().sum() > 0:\n",
    "    print(\"⚠️ Missing values found! Filling with forward fill.\")\n",
    "    credit_card_data.fillna(method=\"ffill\", inplace=True)"
   ]
  },
  {
   "cell_type": "code",
   "execution_count": null,
   "id": "55a832bb",
   "metadata": {},
   "outputs": [],
   "source": [
    "# Visualize class imbalance\n",
    "plt.figure(figsize=(6, 4))\n",
    "sns.countplot(x=\"Class\", data=credit_card_data, palette=\"Set2\")\n",
    "plt.title(\"Fraud vs Non-Fraud Transactions\")\n",
    "plt.xlabel(\"Transaction Class (0 = Non-Fraud, 1 = Fraud)\")\n",
    "plt.ylabel(\"Count\")\n",
    "plt.grid(axis=\"y\", linestyle=\"--\", alpha=0.7)\n",
    "plt.tight_layout()\n",
    "plt.show()"
   ]
  },
  {
   "cell_type": "code",
   "execution_count": null,
   "id": "b6e8e2fd",
   "metadata": {},
   "outputs": [],
   "source": [
    "# Correlation heatmap (zoomed into top correlations)\n",
    "plt.figure(figsize=(20, 12))\n",
    "corr = credit_card_data.corr()"
   ]
  },
  {
   "cell_type": "code",
   "execution_count": null,
   "id": "45972e82",
   "metadata": {},
   "outputs": [],
   "source": [
    "# Sort correlations with respect to 'Class'\n",
    "sorted_corr = corr[\"Class\"].abs().sort_values(ascending=False)\n",
    "\n",
    "sns.heatmap(corr[sorted_corr.index][:20], cmap=\"coolwarm\", annot=False, linewidths=0.5)\n",
    "plt.title(\"Top Correlation Heatmap with Class\")\n",
    "plt.tight_layout()\n",
    "plt.show()"
   ]
  },
  {
   "cell_type": "code",
   "execution_count": null,
   "id": "b48a722c",
   "metadata": {},
   "outputs": [],
   "source": []
  }
 ],
 "metadata": {
  "kernelspec": {
   "display_name": "Python 3 (ipykernel)",
   "language": "python",
   "name": "python3"
  },
  "language_info": {
   "codemirror_mode": {
    "name": "ipython",
    "version": 3
   },
   "file_extension": ".py",
   "mimetype": "text/x-python",
   "name": "python",
   "nbconvert_exporter": "python",
   "pygments_lexer": "ipython3",
   "version": "3.13.5"
  }
 },
 "nbformat": 4,
 "nbformat_minor": 5
}
