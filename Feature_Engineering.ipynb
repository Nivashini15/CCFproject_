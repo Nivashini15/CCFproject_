{
 "cells": [
  {
   "cell_type": "code",
   "execution_count": null,
   "id": "b497fcbf",
   "metadata": {},
   "outputs": [],
   "source": [
    "import pandas as pd\n",
    "import numpy as np\n",
    "import matplotlib.pyplot as plt\n",
    "import seaborn as sns"
   ]
  },
  {
   "cell_type": "code",
   "execution_count": null,
   "id": "4b48c1cd",
   "metadata": {},
   "outputs": [],
   "source": [
    "# Load the data\n",
    "data = pd.read_csv(\"../creditcard.csv\")"
   ]
  },
  {
   "cell_type": "code",
   "execution_count": null,
   "id": "dbc8d5a8",
   "metadata": {},
   "outputs": [],
   "source": [
    "# Drop 'Time' feature\n",
    "data.drop([\"Time\"], axis=1, inplace=True)"
   ]
  },
  {
   "cell_type": "code",
   "execution_count": null,
   "id": "8ff72f71",
   "metadata": {},
   "outputs": [],
   "source": [
    "# Log-transform 'Amount' to reduce skewness\n",
    "data[\"LogAmount\"] = np.log1p(data[\"Amount\"])"
   ]
  },
  {
   "cell_type": "code",
   "execution_count": null,
   "id": "f6314504",
   "metadata": {},
   "outputs": [],
   "source": [
    "# Optional: Drop original 'Amount' column (we've transformed it)\n",
    "data.drop([\"Amount\"], axis=1, inplace=True)"
   ]
  },
  {
   "cell_type": "code",
   "execution_count": null,
   "id": "c9255ce3",
   "metadata": {},
   "outputs": [],
   "source": [
    "# Visualize the transformed feature\n",
    "plt.figure(figsize=(6, 4))\n",
    "sns.histplot(data[\"LogAmount\"], bins=100, kde=True)\n",
    "plt.title(\"Distribution of Log-Transformed Amount\")\n",
    "plt.show()"
   ]
  },
  {
   "cell_type": "code",
   "execution_count": null,
   "id": "2951ddd4",
   "metadata": {},
   "outputs": [],
   "source": [
    "# Show the updated dataframe\n",
    "print(\"🔎 Updated Features:\")\n",
    "print(data.head())"
   ]
  },
  {
   "cell_type": "code",
   "execution_count": null,
   "id": "4321ce42",
   "metadata": {},
   "outputs": [],
   "source": []
  }
 ],
 "metadata": {
  "kernelspec": {
   "display_name": "Python 3 (ipykernel)",
   "language": "python",
   "name": "python3"
  },
  "language_info": {
   "codemirror_mode": {
    "name": "ipython",
    "version": 3
   },
   "file_extension": ".py",
   "mimetype": "text/x-python",
   "name": "python",
   "nbconvert_exporter": "python",
   "pygments_lexer": "ipython3",
   "version": "3.13.5"
  }
 },
 "nbformat": 4,
 "nbformat_minor": 5
}
